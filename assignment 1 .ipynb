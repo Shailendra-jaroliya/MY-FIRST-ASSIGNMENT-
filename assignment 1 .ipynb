{
 "cells": [
  {
   "cell_type": "markdown",
   "id": "54171228-ae03-47e4-96bd-1d41c10c4688",
   "metadata": {},
   "source": [
    "Q 1 . Declare two variables, `x` and `y`, and assign them integer values. Swap the\n",
    "values of these variables without using any temporary variable."
   ]
  },
  {
   "cell_type": "code",
   "execution_count": 1,
   "id": "3c45518e-8642-4b3c-9872-c9cbc3d0db33",
   "metadata": {},
   "outputs": [],
   "source": [
    "# Initial values\n",
    "x = 5\n",
    "y = 10\n",
    "\n",
    "# Swapping using tuple unpacking or unpacking it is used when we have to swap the values of the variable without using temporary variable \n",
    "x, y = y, x"
   ]
  },
  {
   "cell_type": "code",
   "execution_count": 2,
   "id": "7bda21dc-2161-4e9f-a6f2-98a653e4d0f7",
   "metadata": {},
   "outputs": [
    {
     "data": {
      "text/plain": [
       "10"
      ]
     },
     "execution_count": 2,
     "metadata": {},
     "output_type": "execute_result"
    }
   ],
   "source": [
    "x "
   ]
  },
  {
   "cell_type": "code",
   "execution_count": 3,
   "id": "7b82f6aa-6254-4b45-beb5-651f6571be6a",
   "metadata": {},
   "outputs": [
    {
     "data": {
      "text/plain": [
       "5"
      ]
     },
     "execution_count": 3,
     "metadata": {},
     "output_type": "execute_result"
    }
   ],
   "source": [
    "y"
   ]
  },
  {
   "cell_type": "markdown",
   "id": "d0aa82a3-a22a-46f8-8516-bc0e98dc1f7e",
   "metadata": {},
   "source": [
    "'''Q2 . Create a program that calculates the area of a rectangle. Take the length and\n",
    "width as inputs from the user and store them in variables. Calculate and\n",
    "display the area."
   ]
  },
  {
   "cell_type": "code",
   "execution_count": 1,
   "id": "a4e569a8-54c1-4011-8295-43bee6040953",
   "metadata": {},
   "outputs": [
    {
     "name": "stdin",
     "output_type": "stream",
     "text": [
      "Enter the length of the rectangle:  12\n",
      "Enter the width of the rectangle:  665\n"
     ]
    },
    {
     "name": "stdout",
     "output_type": "stream",
     "text": [
      "The area of the rectangle is: 7980.0\n"
     ]
    }
   ],
   "source": [
    "# Get input from the user for length and width\n",
    "length = float(input(\"Enter the length of the rectangle: \"))\n",
    "width = float(input(\"Enter the width of the rectangle: \"))\n",
    "\n",
    "# Calculate the area\n",
    "area = length * width\n",
    "\n",
    "# Display the result\n",
    "print(\"The area of the rectangle is:\", area)"
   ]
  },
  {
   "cell_type": "code",
   "execution_count": null,
   "id": "8ccf2b7b-69b0-43d2-8a5b-57216c5cbe5f",
   "metadata": {},
   "outputs": [],
   "source": []
  },
  {
   "cell_type": "markdown",
   "id": "97f836b0-6422-4dba-859a-264e8d717475",
   "metadata": {},
   "source": [
    "Q3. Write a Python program that converts temperatures from Celsius to\n",
    "Fahrenheit. Take the temperature in Celsius as input, store it in a variable,\n",
    "convert it to Fahrenheit, and display the result."
   ]
  },
  {
   "cell_type": "code",
   "execution_count": 7,
   "id": "b340c2cc-4f51-4d20-a6e5-9436d838dd2d",
   "metadata": {},
   "outputs": [
    {
     "name": "stdin",
     "output_type": "stream",
     "text": [
      "ENTER TEMPERATURE IN Celsius 41\n"
     ]
    }
   ],
   "source": [
    "Tc = float(input(\"ENTER TEMPERATURE IN Celsius\" )) # Tc is temperature in Fahrenheit "
   ]
  },
  {
   "cell_type": "code",
   "execution_count": 8,
   "id": "d45a8fa7-865a-4cdc-9d4e-49f6cf673ce5",
   "metadata": {},
   "outputs": [],
   "source": [
    "#Celcius to fahrenheit formula \n",
    "F = 9/5 *Tc + 32"
   ]
  },
  {
   "cell_type": "code",
   "execution_count": 9,
   "id": "42faff37-ee39-4fa1-bdb7-b9f7b7d95632",
   "metadata": {},
   "outputs": [
    {
     "name": "stdout",
     "output_type": "stream",
     "text": [
      "Temperature in fahrenhiet is :  105.8\n"
     ]
    }
   ],
   "source": [
    "print(\"Temperature in fahrenhiet is : \", F)"
   ]
  },
  {
   "cell_type": "code",
   "execution_count": null,
   "id": "6fa13d29-b32b-41f8-b199-c638da9d17c1",
   "metadata": {},
   "outputs": [],
   "source": []
  },
  {
   "cell_type": "markdown",
   "id": "2ca9f32f-383c-42b3-b6b9-7140dd514f17",
   "metadata": {},
   "source": [
    "Q4 . Write a Python program that takes a string as input and prints the length of\n",
    "the string."
   ]
  },
  {
   "cell_type": "code",
   "execution_count": 14,
   "id": "4ae65c8f-ff39-4c02-b6eb-f024c6d39e01",
   "metadata": {},
   "outputs": [
    {
     "name": "stdin",
     "output_type": "stream",
     "text": [
      "Enter a string :  kjhk\n"
     ]
    },
    {
     "name": "stdout",
     "output_type": "stream",
     "text": [
      "The length of the string is :  4\n"
     ]
    }
   ],
   "source": [
    "# TAKE INPUT FROM THE USER \n",
    "user_input = input(\"Enter a string : \")\n",
    "\n",
    "# TO CALCULATE THE LENGTH OF STRING\n",
    "length_of_string = len(user_input)\n",
    "\n",
    "print(\"The length of the string is : \", length_of_string)"
   ]
  },
  {
   "cell_type": "code",
   "execution_count": null,
   "id": "872ef5a9-8dc7-44f4-b7af-94472b232241",
   "metadata": {},
   "outputs": [],
   "source": []
  },
  {
   "cell_type": "markdown",
   "id": "91bfa152-bc8c-4ec2-8831-87912a371fff",
   "metadata": {},
   "source": [
    "Q5 . Create a program that takes a sentence from the user and counts the number\n",
    "of vowels (a, e, i, o, u) in the string."
   ]
  },
  {
   "cell_type": "code",
   "execution_count": null,
   "id": "429efb62-e2e0-47b6-9907-b0d53381b65c",
   "metadata": {},
   "outputs": [],
   "source": [
    "sentence = input(\"Enter a sentence: \")\n",
    "\n",
    "count = 0  # Initialize count variable\n",
    "\n",
    "# Let's create a list which consists of letters in upper and lower case\n",
    "vowels = ['a', 'e', 'i', 'o', 'u', 'A', 'E', 'I', 'O', 'U']\n",
    "\n",
    "for char in sentence:\n",
    "     if char in vowels:\n",
    "        count += 1\n",
    "\n",
    "# Print the result outside the loop to display the total count\n",
    "print('Number of vowels:', count)"
   ]
  },
  {
   "cell_type": "markdown",
   "id": "e71f9711-6cc0-4123-88f1-02ebdf5b233c",
   "metadata": {},
   "source": [
    "Q6. Given a string, reverse the order of characters using string slicing and print\n",
    "the reversed string. "
   ]
  },
  {
   "cell_type": "code",
   "execution_count": 4,
   "id": "9854d518-66a4-4db3-ab96-ad428ac8fbaf",
   "metadata": {},
   "outputs": [
    {
     "data": {
      "text/plain": [
       "'slliks wp'"
      ]
     },
     "execution_count": 4,
     "metadata": {},
     "output_type": "execute_result"
    }
   ],
   "source": [
    "# let s1 be the string which is to be reversed \n",
    "s1 = \"pw skills\"\n",
    "s1 [::-1] # we use slicing concept "
   ]
  },
  {
   "cell_type": "markdown",
   "id": "42cf1109-f951-470d-b96d-ceb877b949a0",
   "metadata": {},
   "source": [
    "Q7. Create a program that takes a string as input and removes all the spaces from\n",
    "it. Print the modified string without spaces."
   ]
  },
  {
   "cell_type": "code",
   "execution_count": 9,
   "id": "1d2ad9f4-b48c-493e-9d79-993d73168039",
   "metadata": {},
   "outputs": [
    {
     "name": "stdin",
     "output_type": "stream",
     "text": [
      "Enter a string      string\n"
     ]
    },
    {
     "data": {
      "text/plain": [
       "'string'"
      ]
     },
     "execution_count": 9,
     "metadata": {},
     "output_type": "execute_result"
    }
   ],
   "source": [
    "# lets take input string from user \n",
    "s1 = input(\"Enter a string\")\n",
    "\n",
    "s1.strip()"
   ]
  },
  {
   "cell_type": "code",
   "execution_count": 12,
   "id": "e610485d-b983-48fe-8305-05ec6ac2c9c5",
   "metadata": {},
   "outputs": [
    {
     "name": "stdin",
     "output_type": "stream",
     "text": [
      "Enter a string  trt\n"
     ]
    },
    {
     "name": "stdout",
     "output_type": "stream",
     "text": [
      "Its a palindrome\n"
     ]
    }
   ],
   "source": [
    "#Take string from user\n",
    "value = input(\"Enter a string \")\n",
    "reversed_value = value[::-1]\n",
    "if value == reversed_value:\n",
    "   print(\"Its a palindrome\")\n",
    "else:\n",
    "    print(\"its not a palindrome \")"
   ]
  },
  {
   "cell_type": "code",
   "execution_count": null,
   "id": "8a049dff-fa76-49a5-a600-20f5f121bbee",
   "metadata": {},
   "outputs": [],
   "source": []
  }
 ],
 "metadata": {
  "kernelspec": {
   "display_name": "Python 3 (ipykernel)",
   "language": "python",
   "name": "python3"
  },
  "language_info": {
   "codemirror_mode": {
    "name": "ipython",
    "version": 3
   },
   "file_extension": ".py",
   "mimetype": "text/x-python",
   "name": "python",
   "nbconvert_exporter": "python",
   "pygments_lexer": "ipython3",
   "version": "3.10.8"
  }
 },
 "nbformat": 4,
 "nbformat_minor": 5
}
